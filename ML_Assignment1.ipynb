{
  "nbformat": 4,
  "nbformat_minor": 0,
  "metadata": {
    "colab": {
      "name": "ML-Assignment1.ipynb",
      "provenance": []
    },
    "kernelspec": {
      "name": "python3",
      "display_name": "Python 3"
    },
    "language_info": {
      "name": "python"
    }
  },
  "cells": [
    {
      "cell_type": "code",
      "metadata": {
        "id": "-bPl8c-dzJIl"
      },
      "source": [
        "#Imports\n",
        "import numpy as np\n",
        "from numpy import random \n",
        "import pandas as pd\n",
        "import matplotlib.pyplot as plt"
      ],
      "execution_count": null,
      "outputs": []
    },
    {
      "cell_type": "code",
      "metadata": {
        "colab": {
          "base_uri": "https://localhost:8080/",
          "height": 206
        },
        "id": "P7kyERkBzMWg",
        "outputId": "8eb034ab-36ad-4634-b533-54ec6a979f26"
      },
      "source": [
        "#Random Dataset\n",
        "office_price= {'Size': random.uniform(5,10,100),'Prize': random.uniform(10,50,100)}\n",
        "\n",
        "office =pd.DataFrame(office_price)\n",
        "\n",
        "office.head()"
      ],
      "execution_count": null,
      "outputs": [
        {
          "output_type": "execute_result",
          "data": {
            "text/html": [
              "<div>\n",
              "<style scoped>\n",
              "    .dataframe tbody tr th:only-of-type {\n",
              "        vertical-align: middle;\n",
              "    }\n",
              "\n",
              "    .dataframe tbody tr th {\n",
              "        vertical-align: top;\n",
              "    }\n",
              "\n",
              "    .dataframe thead th {\n",
              "        text-align: right;\n",
              "    }\n",
              "</style>\n",
              "<table border=\"1\" class=\"dataframe\">\n",
              "  <thead>\n",
              "    <tr style=\"text-align: right;\">\n",
              "      <th></th>\n",
              "      <th>Size</th>\n",
              "      <th>Prize</th>\n",
              "    </tr>\n",
              "  </thead>\n",
              "  <tbody>\n",
              "    <tr>\n",
              "      <th>0</th>\n",
              "      <td>6.431236</td>\n",
              "      <td>40.468336</td>\n",
              "    </tr>\n",
              "    <tr>\n",
              "      <th>1</th>\n",
              "      <td>7.410774</td>\n",
              "      <td>30.623204</td>\n",
              "    </tr>\n",
              "    <tr>\n",
              "      <th>2</th>\n",
              "      <td>5.982866</td>\n",
              "      <td>23.969547</td>\n",
              "    </tr>\n",
              "    <tr>\n",
              "      <th>3</th>\n",
              "      <td>9.960076</td>\n",
              "      <td>42.482092</td>\n",
              "    </tr>\n",
              "    <tr>\n",
              "      <th>4</th>\n",
              "      <td>7.931586</td>\n",
              "      <td>29.966024</td>\n",
              "    </tr>\n",
              "  </tbody>\n",
              "</table>\n",
              "</div>"
            ],
            "text/plain": [
              "       Size      Prize\n",
              "0  6.431236  40.468336\n",
              "1  7.410774  30.623204\n",
              "2  5.982866  23.969547\n",
              "3  9.960076  42.482092\n",
              "4  7.931586  29.966024"
            ]
          },
          "metadata": {
            "tags": []
          },
          "execution_count": 2
        }
      ]
    },
    {
      "cell_type": "code",
      "metadata": {
        "id": "UA391hS6zR55"
      },
      "source": [
        "# X , Y , m and c specified\n",
        "m = 0\n",
        "c = 0\n",
        "\n",
        "X = office.iloc[:, 0]\n",
        "y = office.iloc[:, 1]\n",
        "\n",
        "\n"
      ],
      "execution_count": null,
      "outputs": []
    },
    {
      "cell_type": "code",
      "metadata": {
        "colab": {
          "base_uri": "https://localhost:8080/"
        },
        "id": "jx-NRNlczfOS",
        "outputId": "11f11a2e-4f35-491c-c90e-83d80d1b4828"
      },
      "source": [
        "# Mean Squared error and Gradient Descent\n",
        "\n",
        "n= len(X)\n",
        "L = 0.01 #learning rate\n",
        "epochs = 1000 #iterations\n",
        "\n",
        "\n",
        "for epoch in range(epochs):\n",
        "  y_pred = m*X + c #equation of line to find predicted values\n",
        "\n",
        "  mse =  (1/n) * sum((y - y_pred)**2) # finding the mean squared error\n",
        "  \n",
        "  #Finding deravitives\n",
        "  Dm = (-2/n) * sum(X * (y - y_pred))\n",
        "  Dc = (-2/n) * sum(y - y_pred)\n",
        "\n",
        "  #Updating new values of m and c\n",
        "  m = m - L * Dm \n",
        "  c = c - L * Dc\n",
        "  \n",
        "  #Printing the iteration and error after every 10th epoch i.e ending in 0\n",
        "  if epoch%(epochs/10) == 0:\n",
        "    print(epoch,mse)\n",
        "\n",
        "print (m,c) "
      ],
      "execution_count": null,
      "outputs": [
        {
          "output_type": "stream",
          "text": [
            "0 1072.0409808088655\n",
            "100 156.6669356802181\n",
            "200 153.26605904764608\n",
            "300 150.27993366915703\n",
            "400 147.65797887942597\n",
            "500 145.35578253867098\n",
            "600 143.33434875493683\n",
            "700 141.55943734982105\n",
            "800 140.00098387914116\n",
            "900 138.63259038452858\n",
            "1.9883585000542234 15.327052982486231\n"
          ],
          "name": "stdout"
        }
      ]
    },
    {
      "cell_type": "code",
      "metadata": {
        "colab": {
          "base_uri": "https://localhost:8080/",
          "height": 404
        },
        "id": "7rzBh-hj8q21",
        "outputId": "c2aa0486-670c-4c82-edca-8f5326596189"
      },
      "source": [
        "#Plotting the regression line\n",
        "\n",
        "plt.figure(figsize=(8,6))\n",
        "plt.scatter(X, y)\n",
        "plt.plot(X, y_pred, color='r')\n",
        "plt.title('Office Price Prediction')\n",
        "plt.xlabel('Size')\n",
        "plt.ylabel('Price')\n",
        "plt.show()"
      ],
      "execution_count": null,
      "outputs": [
        {
          "output_type": "display_data",
          "data": {
            "image/png": "[encoded data removed]",
            "text/plain": [
              "<Figure size 576x432 with 1 Axes>"
            ]
          },
          "metadata": {
            "tags": [],
            "needs_background": "light"
          }
        }
      ]
    },
    {
      "cell_type": "code",
      "metadata": {
        "id": "FLOw3P06EfAV"
      },
      "source": [
        ""
      ],
      "execution_count": null,
      "outputs": []
    }
  ]
}